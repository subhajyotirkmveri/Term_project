{
 "cells": [
  {
   "cell_type": "code",
   "execution_count": 1,
   "id": "87580595",
   "metadata": {},
   "outputs": [],
   "source": [
    "import fiona\n",
    "import numpy as np\n",
    "import pandas as pd\n",
    "\n",
    "# Load the shapefile\n",
    "shapefile = fiona.open('/home/sysadm/Downloads/Delhi_shape_file')\n",
    "\n",
    "# Find the bounding box of the Delhi region\n",
    "bbox = shapefile.bounds"
   ]
  },
  {
   "cell_type": "code",
   "execution_count": 2,
   "id": "8db232a2",
   "metadata": {},
   "outputs": [
    {
     "data": {
      "text/plain": [
       "(76.83291625976568, 28.408460617065373, 77.33773803710939, 28.884511947631935)"
      ]
     },
     "execution_count": 2,
     "metadata": {},
     "output_type": "execute_result"
    }
   ],
   "source": [
    "bbox"
   ]
  },
  {
   "cell_type": "code",
   "execution_count": 37,
   "id": "789c4e8a",
   "metadata": {},
   "outputs": [
    {
     "name": "stdout",
     "output_type": "stream",
     "text": [
      "      longitude   latitude\n",
      "0     76.832916  28.408461\n",
      "1     76.832916  28.422062\n",
      "2     76.832916  28.435664\n",
      "3     76.832916  28.449265\n",
      "4     76.832916  28.462866\n",
      "...         ...        ...\n",
      "1363  77.328716  28.830106\n",
      "1364  77.328716  28.843708\n",
      "1365  77.328716  28.857309\n",
      "1366  77.328716  28.870910\n",
      "1367  77.328716  28.884512\n",
      "\n",
      "[1368 rows x 2 columns]\n"
     ]
    }
   ],
   "source": [
    "import fiona\n",
    "import numpy as np\n",
    "import pandas as pd\n",
    "\n",
    "# Load the shapefile\n",
    "shapefile = fiona.open('/home/sysadm/Downloads/Delhi_shape_file')\n",
    "\n",
    "# Find the bounding box of the Delhi region\n",
    "bbox = shapefile.bounds\n",
    "\n",
    "# Calculate the number of latitude points for a 1km x 1km grid\n",
    "grid_spacing = 0.0134 # 0.0134 degrees is approximately 1km at this latitude\n",
    "num_latitude_points = int((bbox[3] - bbox[1]) / grid_spacing) + 1\n",
    "\n",
    "# Create an array of latitude values with the appropriate number of points\n",
    "x = np.linspace(bbox[1], bbox[3], num_latitude_points)\n",
    "\n",
    "# Create a grid of points within the bounding box with 1484 points in the latitude direction\n",
    "y = np.arange(bbox[0], bbox[2], grid_spacing)\n",
    "xgrid, ygrid = np.meshgrid(x, y)\n",
    "\n",
    "# Flatten the grid arrays to obtain latitude and longitude coordinates\n",
    "latitude = xgrid.flatten()\n",
    "longitude = ygrid.flatten()\n",
    "\n",
    "# Create a DataFrame from the coordinates\n",
    "data = {'longitude': longitude ,'latitude': latitude}\n",
    "df = pd.DataFrame(data)\n",
    "\n",
    "# Now 'df' is a DataFrame containing 1484 points in the latitude direction\n",
    "print(df)  # Print the first few rows of the DataFrame"
   ]
  },
  {
   "cell_type": "code",
   "execution_count": 1,
   "id": "48fe7de8",
   "metadata": {},
   "outputs": [],
   "source": [
    "import os\n",
    "from netCDF4 import Dataset\n",
    "import numpy as np\n",
    "import pandas as pd"
   ]
  },
  {
   "cell_type": "code",
   "execution_count": 39,
   "id": "f68e686a",
   "metadata": {},
   "outputs": [],
   "source": [
    "final_csv_output_dir = \"/home/sysadm/Downloads/\""
   ]
  },
  {
   "cell_type": "code",
   "execution_count": 40,
   "id": "484ab9b1",
   "metadata": {},
   "outputs": [],
   "source": [
    "csv_file_path = os.path.join(final_csv_output_dir, \"delhi_lat_lon.csv\")\n",
    "# Save the result to a new CSV file\n",
    "df.to_csv(csv_file_path, index=False)"
   ]
  },
  {
   "cell_type": "code",
   "execution_count": null,
   "id": "bf52af7f",
   "metadata": {},
   "outputs": [],
   "source": []
  },
  {
   "cell_type": "code",
   "execution_count": null,
   "id": "60e9afd7",
   "metadata": {},
   "outputs": [],
   "source": []
  },
  {
   "cell_type": "code",
   "execution_count": 40,
   "id": "0a28657d",
   "metadata": {},
   "outputs": [],
   "source": [
    "import fiona\n",
    "import numpy as np\n",
    "import pandas as pd\n",
    "\n",
    "# Load the shapefile\n",
    "shapefile = fiona.open('/home/sysadm/Downloads/Karnataka_shape_file')\n",
    "\n",
    "# Find the bounding box of the Delhi region\n",
    "bbox = shapefile.bounds"
   ]
  },
  {
   "cell_type": "code",
   "execution_count": 41,
   "id": "afbf19c0",
   "metadata": {},
   "outputs": [
    {
     "data": {
      "text/plain": [
       "(74.0543060302735, 11.574480056762809, 78.57746887207063, 18.45512008666988)"
      ]
     },
     "execution_count": 41,
     "metadata": {},
     "output_type": "execute_result"
    }
   ],
   "source": [
    "bbox"
   ]
  },
  {
   "cell_type": "code",
   "execution_count": 42,
   "id": "1eb18a6c",
   "metadata": {},
   "outputs": [
    {
     "name": "stdout",
     "output_type": "stream",
     "text": [
      "      longitude   latitude\n",
      "0     74.054306  11.574480\n",
      "1     74.054306  11.714901\n",
      "2     74.054306  11.855323\n",
      "3     74.054306  11.995744\n",
      "4     74.054306  12.136165\n",
      "...         ...        ...\n",
      "1645  78.534306  17.893435\n",
      "1646  78.534306  18.033856\n",
      "1647  78.534306  18.174278\n",
      "1648  78.534306  18.314699\n",
      "1649  78.534306  18.455120\n",
      "\n",
      "[1650 rows x 2 columns]\n"
     ]
    }
   ],
   "source": [
    "import fiona\n",
    "import numpy as np\n",
    "import pandas as pd\n",
    "\n",
    "# Load the shapefile\n",
    "shapefile = fiona.open('/home/sysadm/Downloads/Karnataka_shape_file')\n",
    "\n",
    "# Find the bounding box of the Delhi region\n",
    "bbox = shapefile.bounds\n",
    "\n",
    "# Calculate the number of latitude points for a 1km x 1km grid\n",
    "grid_spacing = 0.14 # 0.14 degrees is approximately 1km at this latitude\n",
    "num_latitude_points = int((bbox[3] - bbox[1]) / grid_spacing) + 1\n",
    "\n",
    "# Create an array of latitude values with the appropriate number of points\n",
    "x = np.linspace(bbox[1], bbox[3], num_latitude_points)\n",
    "\n",
    "# Create a grid of points within the bounding box with 1484 points in the latitude direction\n",
    "y = np.arange(bbox[0], bbox[2], grid_spacing)\n",
    "xgrid, ygrid = np.meshgrid(x, y)\n",
    "\n",
    "# Flatten the grid arrays to obtain latitude and longitude coordinates\n",
    "latitude = xgrid.flatten()\n",
    "longitude = ygrid.flatten()\n",
    "\n",
    "# Create a DataFrame from the coordinates\n",
    "data = {'longitude': longitude ,'latitude': latitude}\n",
    "df = pd.DataFrame(data)\n",
    "\n",
    "# Now 'df' is a DataFrame containing 1484 points in the latitude direction\n",
    "print(df)  # Print the first few rows of the DataFrame"
   ]
  },
  {
   "cell_type": "code",
   "execution_count": 43,
   "id": "135ac565",
   "metadata": {},
   "outputs": [],
   "source": [
    "final_csv_output_dir = \"/home/sysadm/Downloads/\""
   ]
  },
  {
   "cell_type": "code",
   "execution_count": 44,
   "id": "8c7cfc9e",
   "metadata": {},
   "outputs": [],
   "source": [
    "csv_file_path = os.path.join(final_csv_output_dir, \"karnataka_1650_points_lat_lon.csv\")\n",
    "# Save the result to a new CSV file\n",
    "df.to_csv(csv_file_path, index=False)"
   ]
  },
  {
   "cell_type": "code",
   "execution_count": null,
   "id": "6e363d38",
   "metadata": {},
   "outputs": [],
   "source": []
  },
  {
   "cell_type": "code",
   "execution_count": null,
   "id": "079570e6",
   "metadata": {},
   "outputs": [],
   "source": []
  },
  {
   "cell_type": "code",
   "execution_count": 45,
   "id": "44f7f814",
   "metadata": {},
   "outputs": [],
   "source": [
    "import fiona\n",
    "import numpy as np\n",
    "import pandas as pd\n",
    "\n",
    "# Load the shapefile\n",
    "shapefile = fiona.open('/home/sysadm/Downloads/WestBengal_shape_file')\n",
    "\n",
    "# Find the bounding box of the Delhi region\n",
    "bbox = shapefile.bounds"
   ]
  },
  {
   "cell_type": "code",
   "execution_count": 46,
   "id": "4c899f55",
   "metadata": {},
   "outputs": [
    {
     "data": {
      "text/plain": [
       "(85.8263626098634, 21.539445877075195, 89.87754821777371, 27.221031188964865)"
      ]
     },
     "execution_count": 46,
     "metadata": {},
     "output_type": "execute_result"
    }
   ],
   "source": [
    "bbox"
   ]
  },
  {
   "cell_type": "code",
   "execution_count": 47,
   "id": "60844cca",
   "metadata": {},
   "outputs": [
    {
     "name": "stdout",
     "output_type": "stream",
     "text": [
      "      longitude   latitude\n",
      "0     85.826363  21.539446\n",
      "1     85.826363  21.660331\n",
      "2     85.826363  21.781215\n",
      "3     85.826363  21.902100\n",
      "4     85.826363  22.022985\n",
      "...         ...        ...\n",
      "1627  89.786363  26.737492\n",
      "1628  89.786363  26.858377\n",
      "1629  89.786363  26.979262\n",
      "1630  89.786363  27.100146\n",
      "1631  89.786363  27.221031\n",
      "\n",
      "[1632 rows x 2 columns]\n"
     ]
    }
   ],
   "source": [
    "import fiona\n",
    "import numpy as np\n",
    "import pandas as pd\n",
    "\n",
    "# Load the shapefile\n",
    "shapefile = fiona.open('/home/sysadm/Downloads/WestBengal_shape_file')\n",
    "\n",
    "# Find the bounding box of the Delhi region\n",
    "bbox = shapefile.bounds\n",
    "\n",
    "# Calculate the number of latitude points for a 1km x 1km grid\n",
    "grid_spacing = 0.12# 0.12 degrees is approximately 1km at this latitude\n",
    "num_latitude_points = int((bbox[3] - bbox[1]) / grid_spacing) + 1\n",
    "\n",
    "# Create an array of latitude values with the appropriate number of points\n",
    "x = np.linspace(bbox[1], bbox[3], num_latitude_points)\n",
    "\n",
    "# Create a grid of points within the bounding box with 1484 points in the latitude direction\n",
    "y = np.arange(bbox[0], bbox[2], grid_spacing)\n",
    "xgrid, ygrid = np.meshgrid(x, y)\n",
    "\n",
    "# Flatten the grid arrays to obtain latitude and longitude coordinates\n",
    "latitude = xgrid.flatten()\n",
    "longitude = ygrid.flatten()\n",
    "\n",
    "# Create a DataFrame from the coordinates\n",
    "data = {'longitude': longitude ,'latitude': latitude}\n",
    "df = pd.DataFrame(data)\n",
    "\n",
    "# Now 'df' is a DataFrame containing 1484 points in the latitude direction\n",
    "print(df)  # Print the first few rows of the DataFrame"
   ]
  },
  {
   "cell_type": "code",
   "execution_count": 48,
   "id": "a84e8461",
   "metadata": {},
   "outputs": [],
   "source": [
    "final_csv_output_dir = \"/home/sysadm/Downloads/\""
   ]
  },
  {
   "cell_type": "code",
   "execution_count": 49,
   "id": "8b84fdd6",
   "metadata": {},
   "outputs": [],
   "source": [
    "csv_file_path = os.path.join(final_csv_output_dir, \"west_bengal_1632_points_lat_lon.csv\")\n",
    "# Save the result to a new CSV file\n",
    "df.to_csv(csv_file_path, index=False)"
   ]
  },
  {
   "cell_type": "code",
   "execution_count": null,
   "id": "52efa13e",
   "metadata": {},
   "outputs": [],
   "source": []
  },
  {
   "cell_type": "code",
   "execution_count": null,
   "id": "365509b5",
   "metadata": {},
   "outputs": [],
   "source": []
  },
  {
   "cell_type": "code",
   "execution_count": null,
   "id": "6d1fb4d8",
   "metadata": {},
   "outputs": [],
   "source": []
  },
  {
   "cell_type": "code",
   "execution_count": null,
   "id": "3b815960",
   "metadata": {},
   "outputs": [],
   "source": []
  },
  {
   "cell_type": "code",
   "execution_count": 50,
   "id": "398034de",
   "metadata": {},
   "outputs": [],
   "source": [
    "import fiona\n",
    "import numpy as np\n",
    "import pandas as pd\n",
    "\n",
    "# Load the shapefile\n",
    "shapefile = fiona.open('/home/sysadm/Downloads/Gujarat_shape_file')\n",
    "\n",
    "# Find the bounding box of the Delhi region\n",
    "bbox = shapefile.bounds"
   ]
  },
  {
   "cell_type": "code",
   "execution_count": 51,
   "id": "4289f2bd",
   "metadata": {},
   "outputs": [
    {
     "name": "stdout",
     "output_type": "stream",
     "text": [
      "      longitude   latitude\n",
      "0     68.186249  20.120798\n",
      "1     68.186249  20.264079\n",
      "2     68.186249  20.407360\n",
      "3     68.186249  20.550641\n",
      "4     68.186249  20.693922\n",
      "...         ...        ...\n",
      "1480  74.346249  24.132666\n",
      "1481  74.346249  24.275947\n",
      "1482  74.346249  24.419228\n",
      "1483  74.346249  24.562509\n",
      "1484  74.346249  24.705790\n",
      "\n",
      "[1485 rows x 2 columns]\n"
     ]
    }
   ],
   "source": [
    "import fiona\n",
    "import numpy as np\n",
    "import pandas as pd\n",
    "\n",
    "# Load the shapefile\n",
    "shapefile = fiona.open('/home/sysadm/Downloads/Gujarat_shape_file')\n",
    "\n",
    "# Find the bounding box of the Delhi region\n",
    "bbox = shapefile.bounds\n",
    "\n",
    "# Calculate the number of latitude points for a 1km x 1km grid\n",
    "grid_spacing = 0.14 # 0.14 degrees is approximately 1km at this latitude\n",
    "num_latitude_points = int((bbox[3] - bbox[1]) / grid_spacing) + 1\n",
    "\n",
    "# Create an array of latitude values with the appropriate number of points\n",
    "x = np.linspace(bbox[1], bbox[3], num_latitude_points)\n",
    "\n",
    "# Create a grid of points within the bounding box with 1484 points in the latitude direction\n",
    "y = np.arange(bbox[0], bbox[2], grid_spacing)\n",
    "xgrid, ygrid = np.meshgrid(x, y)\n",
    "\n",
    "# Flatten the grid arrays to obtain latitude and longitude coordinates\n",
    "latitude = xgrid.flatten()\n",
    "longitude = ygrid.flatten()\n",
    "\n",
    "# Create a DataFrame from the coordinates\n",
    "data = {'longitude': longitude ,'latitude': latitude}\n",
    "df = pd.DataFrame(data)\n",
    "\n",
    "# Now 'df' is a DataFrame containing 1484 points in the latitude direction\n",
    "print(df)  # Print the first few rows of the DataFrame"
   ]
  },
  {
   "cell_type": "code",
   "execution_count": 34,
   "id": "503af11f",
   "metadata": {},
   "outputs": [],
   "source": [
    "final_csv_output_dir = \"/home/sysadm/Downloads/\""
   ]
  },
  {
   "cell_type": "code",
   "execution_count": 52,
   "id": "450b53fd",
   "metadata": {},
   "outputs": [],
   "source": [
    "csv_file_path = os.path.join(final_csv_output_dir, \"gujarat_1485_points_lat_lon.csv\")\n",
    "# Save the result to a new CSV file\n",
    "df.to_csv(csv_file_path, index=False)"
   ]
  },
  {
   "cell_type": "code",
   "execution_count": null,
   "id": "38780c79",
   "metadata": {},
   "outputs": [],
   "source": []
  },
  {
   "cell_type": "code",
   "execution_count": null,
   "id": "984648b8",
   "metadata": {},
   "outputs": [],
   "source": []
  },
  {
   "cell_type": "code",
   "execution_count": 53,
   "id": "61ef76b0",
   "metadata": {},
   "outputs": [],
   "source": [
    "import fiona\n",
    "import numpy as np\n",
    "import pandas as pd\n",
    "\n",
    "# Load the shapefile\n",
    "shapefile = fiona.open('/home/sysadm/Downloads/Orissa_shape_file')\n",
    "\n",
    "# Find the bounding box of the Delhi region\n",
    "bbox = shapefile.bounds"
   ]
  },
  {
   "cell_type": "code",
   "execution_count": 54,
   "id": "65308eab",
   "metadata": {},
   "outputs": [
    {
     "name": "stdout",
     "output_type": "stream",
     "text": [
      "      longitude   latitude\n",
      "0     81.383003  17.802610\n",
      "1     81.383003  17.942639\n",
      "2     81.383003  18.082668\n",
      "3     81.383003  18.222697\n",
      "4     81.383003  18.362726\n",
      "...         ...        ...\n",
      "1535  87.403003  22.003474\n",
      "1536  87.403003  22.143503\n",
      "1537  87.403003  22.283532\n",
      "1538  87.403003  22.423560\n",
      "1539  87.403003  22.563589\n",
      "\n",
      "[1540 rows x 2 columns]\n"
     ]
    }
   ],
   "source": [
    "import fiona\n",
    "import numpy as np\n",
    "import pandas as pd\n",
    "\n",
    "# Load the shapefile\n",
    "shapefile = fiona.open('/home/sysadm/Downloads/Orissa_shape_file')\n",
    "\n",
    "# Find the bounding box of the Delhi region\n",
    "bbox = shapefile.bounds\n",
    "\n",
    "# Calculate the number of latitude points for a 1km x 1km grid\n",
    "grid_spacing = 0.14 # 0.14 degrees is approximately 1km at this latitude\n",
    "num_latitude_points = int((bbox[3] - bbox[1]) / grid_spacing) + 1\n",
    "\n",
    "# Create an array of latitude values with the appropriate number of points\n",
    "x = np.linspace(bbox[1], bbox[3], num_latitude_points)\n",
    "\n",
    "# Create a grid of points within the bounding box with 1484 points in the latitude direction\n",
    "y = np.arange(bbox[0], bbox[2], grid_spacing)\n",
    "xgrid, ygrid = np.meshgrid(x, y)\n",
    "\n",
    "# Flatten the grid arrays to obtain latitude and longitude coordinates\n",
    "latitude = xgrid.flatten()\n",
    "longitude = ygrid.flatten()\n",
    "\n",
    "# Create a DataFrame from the coordinates\n",
    "data = {'longitude': longitude ,'latitude': latitude}\n",
    "df = pd.DataFrame(data)\n",
    "\n",
    "# Now 'df' is a DataFrame containing 1484 points in the latitude direction\n",
    "print(df)  # Print the first few rows of the DataFrame"
   ]
  },
  {
   "cell_type": "code",
   "execution_count": 55,
   "id": "c5bbf89e",
   "metadata": {},
   "outputs": [],
   "source": [
    "csv_file_path = os.path.join(final_csv_output_dir, \"orissa_1540_points_lat_lon.csv\")\n",
    "# Save the result to a new CSV file\n",
    "df.to_csv(csv_file_path, index=False)"
   ]
  },
  {
   "cell_type": "code",
   "execution_count": null,
   "id": "fb527773",
   "metadata": {},
   "outputs": [],
   "source": []
  },
  {
   "cell_type": "code",
   "execution_count": null,
   "id": "52dbf80a",
   "metadata": {},
   "outputs": [],
   "source": []
  },
  {
   "cell_type": "code",
   "execution_count": null,
   "id": "6d98e263",
   "metadata": {},
   "outputs": [],
   "source": []
  },
  {
   "cell_type": "code",
   "execution_count": null,
   "id": "1e31639e",
   "metadata": {},
   "outputs": [],
   "source": []
  },
  {
   "cell_type": "code",
   "execution_count": null,
   "id": "baaf8bda",
   "metadata": {},
   "outputs": [],
   "source": []
  }
 ],
 "metadata": {
  "kernelspec": {
   "display_name": "Python 3 (ipykernel)",
   "language": "python",
   "name": "python3"
  },
  "language_info": {
   "codemirror_mode": {
    "name": "ipython",
    "version": 3
   },
   "file_extension": ".py",
   "mimetype": "text/x-python",
   "name": "python",
   "nbconvert_exporter": "python",
   "pygments_lexer": "ipython3",
   "version": "3.11.3"
  }
 },
 "nbformat": 4,
 "nbformat_minor": 5
}
