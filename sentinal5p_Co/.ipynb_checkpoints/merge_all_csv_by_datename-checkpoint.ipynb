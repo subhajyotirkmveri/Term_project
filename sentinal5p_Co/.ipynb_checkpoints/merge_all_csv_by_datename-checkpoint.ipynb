{
 "cells": [
  {
   "cell_type": "code",
   "execution_count": 5,
   "id": "c0b0bb2d",
   "metadata": {},
   "outputs": [],
   "source": [
    "import pandas as pd\n",
    "import os"
   ]
  },
  {
   "cell_type": "raw",
   "id": "04bcc6b2",
   "metadata": {},
   "source": [
    "import pandas as pd\n",
    "import os\n",
    "\n",
    "# Directory where your CSV files are located\n",
    "directory = '/home/sysadm/Downloads/sentinal5p_O3/Karnataka_2023_sep_to_oct_csv'\n",
    "\n",
    "# Save the merged DataFrame to a new CSV file\n",
    "output_csv_path = '/home/sysadm/Downloads/sentinal5p_O3/Chosen_state_sep_merge_sentinel5p_O3/karnataka_sep_O3.csv'\n",
    "\n",
    "\n",
    "# Create an empty DataFrame to store the merged data\n",
    "merged_df = pd.DataFrame()\n",
    "\n",
    "# Initialize a list to store date columns\n",
    "date_columns = []\n",
    "\n",
    "# Iterate through each CSV file in the directory\n",
    "for filename in os.listdir(directory):\n",
    "    if filename.endswith('.csv'):\n",
    "        file_path = os.path.join(directory, filename)\n",
    "        # Read the CSV file into a DataFrame\n",
    "        df = pd.read_csv(file_path)\n",
    "        #print(df)\n",
    "        date_str = filename.split('.')[0]\n",
    "        #print(date_str)\n",
    "        df.rename(columns={'O3_value(mol/m^2)': date_str}, inplace=True)\n",
    "        # Store the date column in the list\n",
    "        date_columns.append(date_str)\n",
    "        # Merge the current DataFrame with the merged DataFrame using latitude and longitude as keys\n",
    "        if merged_df.empty:\n",
    "            merged_df = df\n",
    "        else:\n",
    "            merged_df = pd.merge(merged_df, df, on=['latitude', 'longitude'], how = 'outer')\n",
    "            \n",
    "# Sort the date columns based on date in ascending order\n",
    "date_columns.sort(key=lambda x: pd.to_datetime(x, format='%Y-%m-%d'))\n",
    "# Ensure all date columns are in the DataFrame\n",
    "for date_col in date_columns:\n",
    "    if date_col not in merged_df.columns:\n",
    "        raise ValueError(f\"Column '{date_col}' not found in DataFrame.\")\n",
    "\n",
    "# Select the columns in the desired order\n",
    "merged_df = merged_df[['latitude', 'longitude'] + date_columns]\n",
    "merged_df\n",
    "merged_df.to_csv(output_csv_path, index=False)"
   ]
  },
  {
   "cell_type": "code",
   "execution_count": null,
   "id": "6b89df57",
   "metadata": {},
   "outputs": [],
   "source": []
  },
  {
   "cell_type": "code",
   "execution_count": 6,
   "id": "0905082d",
   "metadata": {},
   "outputs": [],
   "source": [
    "def merge_all_csv(current_directory,output_csv_file_path , pollutant_value_column):\n",
    "    # Create an empty DataFrame to store the merged data\n",
    "    merged_df = pd.DataFrame()\n",
    "\n",
    "    # Initialize a list to store date columns\n",
    "    date_columns = []\n",
    "\n",
    "    # Iterate through each CSV file in the directory\n",
    "    for filename in os.listdir(directory):\n",
    "        if filename.endswith('.csv'):\n",
    "            file_path = os.path.join(directory, filename)\n",
    "            # Read the CSV file into a DataFrame\n",
    "            df = pd.read_csv(file_path)\n",
    "            #print(df)\n",
    "            date_str = filename.split('.')[0]\n",
    "            #print(date_str)\n",
    "            df.rename(columns={pollutant_value_column: date_str}, inplace=True)\n",
    "            # Store the date column in the list\n",
    "            date_columns.append(date_str)\n",
    "            # Merge the current DataFrame with the merged DataFrame using latitude and longitude as keys\n",
    "            if merged_df.empty:\n",
    "                merged_df = df\n",
    "            else:\n",
    "                merged_df = pd.merge(merged_df, df, on=['latitude', 'longitude'], how = 'outer')\n",
    "\n",
    "    # Sort the date columns based on date in ascending order\n",
    "    date_columns.sort(key=lambda x: pd.to_datetime(x, format='%Y-%m-%d'))\n",
    "    # Ensure all date columns are in the DataFrame\n",
    "    for date_col in date_columns:\n",
    "        if date_col not in merged_df.columns:\n",
    "            raise ValueError(f\"Column '{date_col}' not found in DataFrame.\")\n",
    "\n",
    "    # Select the columns in the desired order\n",
    "    merged_df = merged_df[[ 'longitude' , 'latitude'] + date_columns]\n",
    "    merged_df\n",
    "    merged_df.to_csv(output_csv_path, index=False)\n",
    "    "
   ]
  },
  {
   "cell_type": "code",
   "execution_count": 7,
   "id": "c3b168c4",
   "metadata": {},
   "outputs": [],
   "source": [
    "# Directory where your CSV files are located\n",
    "directory = '/home/sysadm/Downloads/sentinal5p_Co/Delhi_2023_sep_oct_csv'\n",
    "\n",
    "# Save the merged DataFrame to a new CSV file\n",
    "output_csv_path = '/home/sysadm/Downloads/sentinal5p_Co/Chosen_state_2023_sep_merge_sentinel5p_Co/Delhi_2023_sep_Co.csv'"
   ]
  },
  {
   "cell_type": "code",
   "execution_count": 8,
   "id": "4f1bbea0",
   "metadata": {},
   "outputs": [],
   "source": [
    "merge_all_csv(directory,output_csv_path,'Co_value(mol/m^2)')"
   ]
  },
  {
   "cell_type": "code",
   "execution_count": null,
   "id": "33aa2d71",
   "metadata": {},
   "outputs": [],
   "source": []
  },
  {
   "cell_type": "code",
   "execution_count": 9,
   "id": "730641c3",
   "metadata": {},
   "outputs": [],
   "source": [
    "# Directory where your CSV files are located\n",
    "directory = '/home/sysadm/Downloads/sentinal5p_Co/Gujrat_2023_sep_oct_csv'\n",
    "\n",
    "# Save the merged DataFrame to a new CSV file\n",
    "output_csv_path = '/home/sysadm/Downloads/sentinal5p_Co/Chosen_state_2023_sep_merge_sentinel5p_Co/Gujrat_2023_sep_Co.csv'"
   ]
  },
  {
   "cell_type": "code",
   "execution_count": 10,
   "id": "45a64307",
   "metadata": {},
   "outputs": [],
   "source": [
    "merge_all_csv(directory,output_csv_path,'Co_value(mol/m^2)')"
   ]
  },
  {
   "cell_type": "code",
   "execution_count": null,
   "id": "424acdce",
   "metadata": {},
   "outputs": [],
   "source": []
  },
  {
   "cell_type": "code",
   "execution_count": 11,
   "id": "d456f0d0",
   "metadata": {},
   "outputs": [],
   "source": [
    "# Directory where your CSV files are located\n",
    "directory = '/home/sysadm/Downloads/sentinal5p_Co/Karnataka_2023_sep_oct_csv'\n",
    "\n",
    "# Save the merged DataFrame to a new CSV file\n",
    "output_csv_path = '/home/sysadm/Downloads/sentinal5p_Co/Chosen_state_2023_sep_merge_sentinel5p_Co/Karnataka_2023_sep_Co.csv'"
   ]
  },
  {
   "cell_type": "code",
   "execution_count": 12,
   "id": "f002c724",
   "metadata": {},
   "outputs": [],
   "source": [
    "merge_all_csv(directory,output_csv_path,'Co_value(mol/m^2)')"
   ]
  },
  {
   "cell_type": "code",
   "execution_count": null,
   "id": "74ffe497",
   "metadata": {},
   "outputs": [],
   "source": []
  },
  {
   "cell_type": "code",
   "execution_count": 13,
   "id": "072f25f9",
   "metadata": {},
   "outputs": [],
   "source": [
    "# Directory where your CSV files are located\n",
    "directory = '/home/sysadm/Downloads/sentinal5p_Co/Orissa_2023_sep_oct_csv'\n",
    "\n",
    "# Save the merged DataFrame to a new CSV file\n",
    "output_csv_path = '/home/sysadm/Downloads/sentinal5p_Co/Chosen_state_2023_sep_merge_sentinel5p_Co/Orissa_2023_sep_Co.csv'"
   ]
  },
  {
   "cell_type": "code",
   "execution_count": 14,
   "id": "38c9f0a6",
   "metadata": {},
   "outputs": [],
   "source": [
    "merge_all_csv(directory,output_csv_path,'Co_value(mol/m^2)')"
   ]
  },
  {
   "cell_type": "code",
   "execution_count": null,
   "id": "d4d80e51",
   "metadata": {},
   "outputs": [],
   "source": []
  },
  {
   "cell_type": "code",
   "execution_count": 15,
   "id": "ac772cdc",
   "metadata": {},
   "outputs": [],
   "source": [
    "# Directory where your CSV files are located\n",
    "directory = '/home/sysadm/Downloads/sentinal5p_Co/WB_2023_sep_oct_csv'\n",
    "\n",
    "# Save the merged DataFrame to a new CSV file\n",
    "output_csv_path = '/home/sysadm/Downloads/sentinal5p_Co/Chosen_state_2023_sep_merge_sentinel5p_Co/WB_2023_sep_Co.csv'"
   ]
  },
  {
   "cell_type": "code",
   "execution_count": 16,
   "id": "3294880d",
   "metadata": {},
   "outputs": [],
   "source": [
    "merge_all_csv(directory,output_csv_path,'Co_value(mol/m^2)')"
   ]
  },
  {
   "cell_type": "code",
   "execution_count": null,
   "id": "66d0bddb",
   "metadata": {},
   "outputs": [],
   "source": []
  },
  {
   "cell_type": "code",
   "execution_count": 17,
   "id": "1cd6137c",
   "metadata": {},
   "outputs": [],
   "source": [
    "# Directory where your CSV files are located\n",
    "directory = '/home/sysadm/Downloads/sentinal5p_Co/Tamilnadu_2023_sep_oct_csv'\n",
    "\n",
    "# Save the merged DataFrame to a new CSV file\n",
    "output_csv_path = '/home/sysadm/Downloads/sentinal5p_Co/Chosen_state_2023_sep_merge_sentinel5p_Co/Tamilnadu_2023_sep_Co.csv'"
   ]
  },
  {
   "cell_type": "code",
   "execution_count": 18,
   "id": "a3d4e656",
   "metadata": {},
   "outputs": [],
   "source": [
    "merge_all_csv(directory,output_csv_path,'Co_value(mol/m^2)')"
   ]
  },
  {
   "cell_type": "code",
   "execution_count": null,
   "id": "f53d82c0",
   "metadata": {},
   "outputs": [],
   "source": []
  }
 ],
 "metadata": {
  "kernelspec": {
   "display_name": "Python 3 (ipykernel)",
   "language": "python",
   "name": "python3"
  },
  "language_info": {
   "codemirror_mode": {
    "name": "ipython",
    "version": 3
   },
   "file_extension": ".py",
   "mimetype": "text/x-python",
   "name": "python",
   "nbconvert_exporter": "python",
   "pygments_lexer": "ipython3",
   "version": "3.11.4"
  }
 },
 "nbformat": 4,
 "nbformat_minor": 5
}
